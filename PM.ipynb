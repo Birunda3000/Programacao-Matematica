{
 "cells": [
  {
   "cell_type": "code",
   "execution_count": 1,
   "metadata": {},
   "outputs": [],
   "source": [
    "import simplex"
   ]
  },
  {
   "cell_type": "markdown",
   "metadata": {},
   "source": [
    "## APENAS MAXIMIZAÇÃO IMPLEMENTADA COM RESTRIÇÕES \"<=\"\n",
    "## Variaveis devem ser adicionadas as expressões em ordem alfabetica\n",
    "## Selecione entre minimização ('MIN') e maximização ('MAX')\n",
    "## Para cada restrição fi, escreva na forma ['f1','f2'...'fn']"
   ]
  },
  {
   "cell_type": "code",
   "execution_count": 2,
   "metadata": {},
   "outputs": [
    {
     "name": "stdout",
     "output_type": "stream",
     "text": [
      "Valor de x: 200.0\n",
      "Valor de y: 0\n",
      "\n",
      "-Solução: 2000.0-\n"
     ]
    }
   ],
   "source": [
    "#fo\n",
    "obj_func = \"10x + y\" # ---DEFINA A FUNÇÃO OBJETIVO AQUI---\n",
    "\n",
    "obj = 'MAX' # APENAS MAXIMIZAÇÃO IMPLEMENTADA\n",
    "\n",
    "restricoes = ['x + y <= 200', '2x + 2y <= 600'] # ---DEFINA AS RESTRIÇÕES AQUI---\n",
    "\n",
    "simplex = simplex.Simplex(obj_func, obj)\n",
    "if len(restricoes) > 0:\n",
    "    for k in restricoes:\n",
    "        simplex.add_constraints(k)\n",
    "meta = simplex.solve()\n",
    "for var in simplex.coefficients:\n",
    "    print(\"Valor de {}: {}\".format(var, meta[var]))\n",
    "print('\\n-Solução: {}-'.format(meta['solution']))"
   ]
  }
 ],
 "metadata": {
  "kernelspec": {
   "display_name": "Python 3",
   "language": "python",
   "name": "python3"
  },
  "language_info": {
   "codemirror_mode": {
    "name": "ipython",
    "version": 3
   },
   "file_extension": ".py",
   "mimetype": "text/x-python",
   "name": "python",
   "nbconvert_exporter": "python",
   "pygments_lexer": "ipython3",
   "version": "3.6.9"
  }
 },
 "nbformat": 4,
 "nbformat_minor": 4
}
